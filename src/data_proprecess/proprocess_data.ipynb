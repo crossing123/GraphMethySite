{
 "cells": [
  {
   "cell_type": "code",
   "execution_count": 1,
   "metadata": {},
   "outputs": [],
   "source": [
    "import pandas as pd\n",
    "import numpy as np\n",
    "from tqdm import tqdm"
   ]
  },
  {
   "cell_type": "code",
   "execution_count": 2,
   "metadata": {},
   "outputs": [
    {
     "name": "stdout",
     "output_type": "stream",
     "text": [
      "['P28845', 'MAFMKKYLLPILGLFMAYYYYSANEEFRPEMLQGKKVIVTGASKGIGREMAYHLAKMGAHVVVTARSKETLQKVVSHCLELGAASAHYIAGTMEDMTFAEQFVAQAGKLMGGLDMLILNHITNTSLNLFHDDIHHVRKSMEVNFLSYVVLTVAALPMLKQSNGSIVVVSSLAGKVAYPMVAAYSASKFALDGFFSSIRKEYSVSRVNVSITLCVLGLIDTETAMKAVSGIVHMQAAPKEECALEIIKGGALRQEEVYYDSSLWTTLLIRNPCRKILEFLYSTSYNMDRFINK', '56', 'K', '23644510', 'K.all', 'Homo sapiens\\n']\n"
     ]
    }
   ],
   "source": [
    "name_seq={}\n",
    "with open(\"/home/Users/gly/gly_me/data_process/K_site/k.hs.txt\", \"r\") as f:\n",
    "    data = f.readlines()\n",
    "    for i in range(len(data)):\n",
    "        temp=data[i].split('\\t')\n",
    "        if temp[0] in name_seq.keys():\n",
    "            continue\n",
    "        else:\n",
    "            name_seq[temp[0]]=temp[1]\n",
    "    print(data[2].split('\\t'))"
   ]
  },
  {
   "cell_type": "code",
   "execution_count": 5,
   "metadata": {},
   "outputs": [],
   "source": [
    "np.save('/home/Users/gly/gly_me/data_process/K_site/me_name_seq_K.npy',name_seq)"
   ]
  },
  {
   "cell_type": "code",
   "execution_count": 4,
   "metadata": {},
   "outputs": [
    {
     "data": {
      "text/plain": [
       "656"
      ]
     },
     "execution_count": 4,
     "metadata": {},
     "output_type": "execute_result"
    }
   ],
   "source": [
    "len(name_seq)"
   ]
  },
  {
   "cell_type": "markdown",
   "metadata": {},
   "source": [
    "正样本"
   ]
  },
  {
   "cell_type": "code",
   "execution_count": 37,
   "metadata": {},
   "outputs": [],
   "source": [
    "file = np.load('/home/Users/gly/gly_me/data_process/K_site/me_name_seq_K.npy',allow_pickle=True).item()"
   ]
  },
  {
   "cell_type": "code",
   "execution_count": 38,
   "metadata": {},
   "outputs": [],
   "source": [
    "positive_name_site={}\n",
    "with open(\"/home/Users/gly/gly_me/data_process/K_site/k.hs.txt\", \"r\") as f:\n",
    "    data = f.readlines()\n",
    "    for i in range(len(data)):\n",
    "        temp=data[i].split('\\t')\n",
    "        if temp[0] in positive_name_site.keys():\n",
    "            positive_name_site[temp[0]].append(int(temp[2]))\n",
    "        else:\n",
    "            positive_name_site[temp[0]]=[int(temp[2])]"
   ]
  },
  {
   "cell_type": "code",
   "execution_count": 42,
   "metadata": {},
   "outputs": [
    {
     "data": {
      "text/plain": [
       "{'O95256': [554],\n",
       " 'B4DIB6': [30],\n",
       " 'P28845': [56],\n",
       " 'P23527': [47, 58, 109],\n",
       " 'P40261': [8],\n",
       " 'P83881': [53, 58, 44],\n",
       " 'Q96QU6-2': [43],\n",
       " 'Q9Y657': [7],\n",
       " 'Q5VZI3': [158],\n",
       " 'P37108': [107],\n",
       " 'Q9UQ35': [1588, 239],\n",
       " 'P11940': [299],\n",
       " 'O75815': [334],\n",
       " 'Q01081': [39],\n",
       " 'G3V5Z3': [642],\n",
       " 'P04920': [274],\n",
       " 'H3BTW3': [264],\n",
       " 'Q8IWF6': [510],\n",
       " 'E9PQM8': [491],\n",
       " 'P52701': [1126],\n",
       " 'Q9UKV3': [654],\n",
       " 'Q96MZ4': [32],\n",
       " 'P68104': [165, 154, 36, 62, 55, 51, 318, 5, 84, 79, 408],\n",
       " 'Q9H2D6-7': [476],\n",
       " 'Q7Z333': [2027],\n",
       " 'Q09666': [4139, 4128, 4532, 2197, 1208, 2257],\n",
       " 'C9JUM1': [71],\n",
       " 'Q96JN0': [400, 402],\n",
       " 'K7EKZ1': [271],\n",
       " 'Q8NHJ6': [362],\n",
       " 'H3BNX5': [357],\n",
       " 'P17844-2': [56],\n",
       " 'Q92794': [1330],\n",
       " 'P07900': [615, 513],\n",
       " 'H0Y3T8': [352],\n",
       " 'Q6PKX4': [58],\n",
       " 'Q13310': [361, 524],\n",
       " 'Q15942': [295],\n",
       " 'Q07666': [194, 200],\n",
       " 'P62158': [78, 116],\n",
       " 'O60494': [1909],\n",
       " 'Q5T2S8': [552],\n",
       " 'P35372-5': [410],\n",
       " 'P43320': [68, 42, 11, 121, 120],\n",
       " 'Q9H9B1': [153],\n",
       " 'O43303': [821],\n",
       " 'Q96PY5': [453, 458, 456],\n",
       " 'J3KS33': [82],\n",
       " 'B1AHD1': [37],\n",
       " 'P05141': [147, 52],\n",
       " 'Q8TDX5': [256],\n",
       " 'Q9NQS1': [230],\n",
       " 'H3BN34': [3],\n",
       " 'P61313': [54],\n",
       " 'Q16778': [109, 58, 47],\n",
       " 'A6NL08': [296, 300],\n",
       " 'O96013': [78],\n",
       " 'D6REX1': [19],\n",
       " 'Q8N655': [904, 140, 909],\n",
       " 'E7EUP3': [190],\n",
       " 'B3KT78': [24],\n",
       " 'D6REY2': [197],\n",
       " 'Q13129': [1470],\n",
       " 'Q9UJS0': [453],\n",
       " 'P21549': [228],\n",
       " 'Q8TBC4': [10, 9],\n",
       " 'Q9H8M5-3': [540, 545],\n",
       " 'O43143': [18],\n",
       " 'Q9NZN4-2': [191, 180, 188],\n",
       " 'I7HJJ0': [52],\n",
       " 'Q01518': [287],\n",
       " 'B4DTC3': [77],\n",
       " 'P26358': [142, 70],\n",
       " 'Q04206': [315, 314, 310, 218, 221, 37],\n",
       " 'Q00610': [619],\n",
       " 'P68431': [5, 80, 57, 65, 15, 24, 19, 123, 37, 38, 28, 10],\n",
       " 'Q9NR09': [1250, 3675],\n",
       " 'P12236': [52],\n",
       " 'P20929-2': [6242, 6236],\n",
       " 'B7ZKM0': [872],\n",
       " 'Q8TCY9': [371],\n",
       " 'Q9HCK1': [1957],\n",
       " 'E7EV03': [226],\n",
       " 'J3QT38': [189],\n",
       " 'Q08116': [164, 24, 13],\n",
       " 'P78527': [3248, 2746, 1150],\n",
       " 'P04406': [5, 66, 194, 227, 215, 263, 260, 334],\n",
       " 'P04637': [370, 373, 372, 382],\n",
       " 'P46013': [1616, 620, 263, 2652],\n",
       " 'Q9BVJ6': [298],\n",
       " 'P04075': [330],\n",
       " 'Q92804': [192, 576, 210],\n",
       " 'Q9BYK8': [1564],\n",
       " 'Q99459': [165, 166],\n",
       " 'P47914': [5],\n",
       " 'Q13315': [2643],\n",
       " 'Q5HY91': [157],\n",
       " 'Q9Y232': [135, 157],\n",
       " 'I3L3Z8': [69, 160, 161],\n",
       " 'Q2TAL5': [354],\n",
       " 'P02768': [558],\n",
       " 'O95171-2': [470],\n",
       " 'Q9NPI7': [237],\n",
       " 'P03372': [302],\n",
       " 'Q6P2Q9': [1517, 1516, 1425],\n",
       " 'Q9NQZ6': [20, 28],\n",
       " 'Q96JP5': [174],\n",
       " 'Q9H0W8': [21],\n",
       " 'Q6ZU59': [2, 15],\n",
       " 'Q13555': [301],\n",
       " 'Q9P212': [1555, 1541],\n",
       " 'B7Z5U3': [250],\n",
       " 'P26998': [128],\n",
       " 'H0YCZ2': [689],\n",
       " 'P67809': [92],\n",
       " 'Q7L014': [113, 389],\n",
       " 'Q8TEW8-6': [800, 801],\n",
       " 'Q05639': [79, 84, 55, 165, 318],\n",
       " 'O60814': [109, 6, 58, 47],\n",
       " 'F8VX48': [133, 136],\n",
       " 'Q12986': [292],\n",
       " 'Q9BS34': [204],\n",
       " 'P12270': [1326, 117, 124],\n",
       " 'P36383': [115],\n",
       " 'B3KVH1': [14, 346, 540, 151],\n",
       " 'Q2NKX8': [55, 48],\n",
       " 'H7C0G7': [213],\n",
       " 'P38117': [202],\n",
       " 'P16499': [84],\n",
       " 'E3W994': [1057],\n",
       " 'P46777': [164],\n",
       " 'Q7Z2Z1': [712, 715],\n",
       " 'Q9HC44': [203, 200, 199],\n",
       " 'Q5T1A1': [3, 6],\n",
       " 'P25391': [2479],\n",
       " 'Q13442': [126],\n",
       " 'A8MX80': [73],\n",
       " 'A0JNW5': [1077],\n",
       " 'E9PPJ0': [490],\n",
       " 'F5GZ52': [743],\n",
       " 'P30876': [1052],\n",
       " 'Q9H9T3': [229],\n",
       " 'P38117-2': [292],\n",
       " 'H0Y8Z5': [42],\n",
       " 'Q96EV2': [889, 302],\n",
       " 'E7EU81': [909, 296, 287],\n",
       " 'Q58FF6': [414],\n",
       " 'P22914': [7],\n",
       " 'Q12962': [189],\n",
       " 'B1ANR0': [495],\n",
       " 'P58397': [536],\n",
       " 'P63167': [49],\n",
       " 'Q08945': [143],\n",
       " 'Q17RB8': [203],\n",
       " 'E9PKE3': [550, 548, 542, 538],\n",
       " 'P63162-2': [12, 9],\n",
       " 'Q15910-2': [515],\n",
       " 'H7C1F3': [75],\n",
       " 'O43390': [235],\n",
       " 'Q15910': [510],\n",
       " 'B3KSI3': [4],\n",
       " 'J3KNU7': [56, 40],\n",
       " 'P02489': [88, 11],\n",
       " 'E9PKW2': [31],\n",
       " 'P53674': [235],\n",
       " 'B0AZS6': [135],\n",
       " 'Q9UQR0': [123],\n",
       " 'P17844': [340],\n",
       " 'Q92800': [736],\n",
       " 'Q8WY21': [702, 700],\n",
       " 'Q6UB99': [160, 158],\n",
       " 'O60870-2': [302, 306, 135],\n",
       " 'Q92831': [78, 89, 692, 672, 671, 638],\n",
       " 'P06400': [810, 860, 873],\n",
       " 'Q969Q0': [53],\n",
       " 'Q14CX7': [219],\n",
       " 'C9J9W2': [39],\n",
       " 'Q9Y448': [268],\n",
       " 'P58876': [58, 109, 47],\n",
       " 'P62805': [21, 32, 60, 78],\n",
       " 'P10745': [1070],\n",
       " 'Q5SY13': [7],\n",
       " 'E5RHS3': [38],\n",
       " 'Q86VD1-2': [744],\n",
       " 'P78347': [434, 219],\n",
       " 'P38919': [374, 70],\n",
       " 'P49750': [643],\n",
       " 'Q15051': [331],\n",
       " 'Q6R327': [1367],\n",
       " 'Q9C0D4': [282],\n",
       " 'P40938': [7],\n",
       " 'Q2WGJ9': [1304],\n",
       " 'Q9Y2Z2-6': [548],\n",
       " 'P06899': [109, 58, 47],\n",
       " 'Q92576': [578],\n",
       " 'E9PDM0': [35],\n",
       " 'P62318': [99],\n",
       " 'J3KQA9': [1085],\n",
       " 'Q8N859': [411],\n",
       " 'C9JA91': [54, 51],\n",
       " 'Q14152-2': [598, 600, 599],\n",
       " 'Q15417': [158],\n",
       " 'Q01844': [410],\n",
       " 'Q8NDG6': [1168],\n",
       " 'M0QX14': [19],\n",
       " 'P31327': [772],\n",
       " 'Q12906': [613],\n",
       " 'Q6UX15-3': [108],\n",
       " 'H0YBP8': [74, 71],\n",
       " 'E9PC52': [150],\n",
       " 'P30414': [637, 639],\n",
       " 'O43237-2': [55],\n",
       " 'Q9BX63': [575],\n",
       " 'Q9P225': [698],\n",
       " 'P01241': [96],\n",
       " 'Q9UMN6': [1866],\n",
       " 'E9PBL8': [377],\n",
       " 'O60506': [213],\n",
       " 'A6PW80': [55, 79],\n",
       " 'Q71DI3': [65, 80, 57, 37, 24, 19, 10, 5, 123, 28],\n",
       " 'Q8TF39': [337, 336, 352, 350],\n",
       " 'P52565': [52, 50],\n",
       " 'P0C0S8': [76, 75, 100],\n",
       " 'P48552': [756, 652, 590],\n",
       " 'F8WEA2': [26],\n",
       " 'F5H6Z0': [275],\n",
       " 'Q16537-2': [444],\n",
       " 'P46063': [487],\n",
       " 'Q96BT1': [97],\n",
       " 'P62807': [47, 44, 58, 24, 121, 109],\n",
       " 'O95248': [1222],\n",
       " 'H0YG45': [76],\n",
       " 'A0AVI2': [1284],\n",
       " 'E9PLV2': [90, 114],\n",
       " 'Q8IUW5': [240],\n",
       " 'Q15545': [5],\n",
       " 'P09429': [43],\n",
       " 'O75533': [290],\n",
       " 'K7EK91': [3588],\n",
       " 'O95197': [540],\n",
       " 'P52701-3': [996],\n",
       " 'P26368': [195],\n",
       " 'Q9BRR0': [82],\n",
       " 'F8VTQ5': [112],\n",
       " 'Q6V1P9': [2747],\n",
       " 'C9JNR4': [119],\n",
       " 'P48443': [10],\n",
       " 'Q6RFH5': [311],\n",
       " 'Q8NA69': [226],\n",
       " 'O75367': [239, 123, 18],\n",
       " 'Q15075': [178, 848],\n",
       " 'E9PMT1': [49, 53],\n",
       " 'Q58FF7': [496],\n",
       " 'Q08050': [278, 282],\n",
       " 'Q8IZT6': [2260],\n",
       " 'P04264': [276],\n",
       " 'B7Z8M0': [204],\n",
       " 'Q96IS6': [502],\n",
       " 'Q5VW27': [400],\n",
       " 'Q8TCS8': [569],\n",
       " 'Q12981': [48, 50],\n",
       " 'Q03001-3': [1554],\n",
       " 'E7ENN3': [4181],\n",
       " 'D6RB49': [202, 204],\n",
       " 'P52272': [651],\n",
       " 'Q6UB98': [928],\n",
       " 'Q14241': [38],\n",
       " 'Q03468': [448, 297, 170, 1054],\n",
       " 'B4DH70': [147],\n",
       " 'Q15022': [403],\n",
       " 'J3KNF5': [1918, 1923],\n",
       " 'Q92623': [165],\n",
       " 'P86452': [479, 467],\n",
       " 'Q9P258': [293],\n",
       " 'Q8NCX0': [212],\n",
       " 'H7C2S2': [239],\n",
       " 'P16949': [29],\n",
       " 'P51957': [622],\n",
       " 'O96028': [1217],\n",
       " 'H7C022': [264],\n",
       " 'Q93079': [109, 47, 58],\n",
       " 'Q9HAU5': [58],\n",
       " 'Q9UFE4': [743],\n",
       " 'Q14847': [75],\n",
       " 'E5RGA9': [102],\n",
       " 'Q9H1E3': [9, 175, 218, 64],\n",
       " 'Q8N163': [123],\n",
       " 'P48382-2': [321],\n",
       " 'Q7Z570': [771],\n",
       " 'A8K7Q2': [321, 333, 331, 325],\n",
       " 'P23246': [314],\n",
       " 'J3KS99': [3],\n",
       " 'A6NL76': [52, 86],\n",
       " 'Q9H5I5': [2552],\n",
       " 'A6NHM7': [539],\n",
       " 'Q5VTE0': [55, 165],\n",
       " 'P49848': [537],\n",
       " 'Q07954': [458],\n",
       " 'F8VUJ3': [288],\n",
       " 'B0I1T2': [518],\n",
       " 'Q9NW08': [1013],\n",
       " 'P17948': [831],\n",
       " 'Q8IY81': [749, 763],\n",
       " 'B4DR24': [209, 188],\n",
       " 'P09543': [29, 27],\n",
       " 'A1X283': [619],\n",
       " 'P32856': [125],\n",
       " 'Q14692': [1144],\n",
       " 'Q99877': [109, 47, 58],\n",
       " 'P05813': [44],\n",
       " 'E7EWI5': [583],\n",
       " 'H7BZJ3': [37],\n",
       " 'Q9H5L6': [667],\n",
       " 'Q8N2S1-3': [5],\n",
       " 'P78344': [431],\n",
       " 'Q96NL6': [445],\n",
       " 'B4DHB9': [180, 163],\n",
       " 'B1AH77': [86, 79],\n",
       " 'Q9NUQ6-4': [353],\n",
       " 'P60174': [231],\n",
       " 'Q08211': [146, 120],\n",
       " 'Q92499': [234],\n",
       " 'B4DIA2': [680],\n",
       " 'E5RFJ8': [166],\n",
       " 'B7Z2F6': [69],\n",
       " 'Q7LGC8': [273],\n",
       " 'Q9P270': [553],\n",
       " 'P30101': [61],\n",
       " 'Q9UL16-2': [346],\n",
       " 'P61978': [139],\n",
       " 'Q9UPS8-2': [79],\n",
       " 'P62424': [101],\n",
       " 'B5MCW2': [198],\n",
       " 'G3XAC6': [111],\n",
       " 'O60449-2': [1781],\n",
       " 'P62318-2': [99],\n",
       " 'K7ENT7': [226],\n",
       " 'Q9Y383': [166],\n",
       " 'Q99880': [109, 58, 47],\n",
       " 'P34932': [773, 557, 559],\n",
       " 'P20648': [30],\n",
       " 'Q96RH9': [75],\n",
       " 'P61764': [321],\n",
       " 'P35556': [2879, 2861],\n",
       " 'Q13061': [625],\n",
       " 'B4DTU4': [764],\n",
       " 'Q8N3C0': [1609],\n",
       " 'Q6ICM0': [50],\n",
       " 'P61326': [14],\n",
       " 'I3L234': [54, 58, 50],\n",
       " 'P10412': [26],\n",
       " 'P17096': [65, 74, 55, 46, 31, 67],\n",
       " 'Q9H2A2': [437],\n",
       " 'P10809': [516],\n",
       " 'Q6IEX5': [287, 283],\n",
       " 'Q14151': [225],\n",
       " 'P98175-3': [803],\n",
       " 'P17028': [361],\n",
       " 'P33991': [216],\n",
       " 'Q86XP3': [708],\n",
       " 'B4DSQ4': [402],\n",
       " 'P22626': [104],\n",
       " 'Q6YP21': [126],\n",
       " 'H0Y8E6': [339],\n",
       " 'B7ZBM4': [44],\n",
       " 'P51610': [665, 511, 558],\n",
       " 'Q9NPJ3': [111],\n",
       " 'Q9UQM7': [258],\n",
       " 'Q2M2D7': [92],\n",
       " 'Q9UBT2-2': [175],\n",
       " 'H0YK99': [5, 25],\n",
       " 'H0Y9L4': [37],\n",
       " 'C9J2Y9': [1045],\n",
       " 'B4DGQ7': [736],\n",
       " 'Q71U36': [60],\n",
       " 'Q15424': [226],\n",
       " 'Q07617': [709, 705],\n",
       " 'Q9P2N5': [734, 945],\n",
       " 'P17948-8': [176],\n",
       " 'P32455': [544],\n",
       " 'B4DYI2': [863],\n",
       " 'P19622': [245],\n",
       " 'Q12802': [1670],\n",
       " 'E7EMB3': [163],\n",
       " 'Q6ZNJ8': [92],\n",
       " 'Q96JM2': [2004],\n",
       " 'P11142': [557, 561],\n",
       " 'Q9HCM1': [1429],\n",
       " 'E9PMD4': [46],\n",
       " 'O75110': [14],\n",
       " 'P20290-2': [10, 2],\n",
       " 'G5E9D5': [80, 82],\n",
       " 'Q8N257': [47, 58, 109],\n",
       " 'Q9H8H0': [346],\n",
       " 'B4DUW5': [186],\n",
       " 'Q16695': [28, 37, 80],\n",
       " 'P19338': [523],\n",
       " 'Q9NX24': [56],\n",
       " 'Q99727': [86],\n",
       " 'Q5BKZ1': [364, 238],\n",
       " 'F8W1S1': [145],\n",
       " 'P02533': [243],\n",
       " 'J3QLC7': [114],\n",
       " 'P14625': [663],\n",
       " 'Q6W3E5': [303, 296],\n",
       " 'O60244': [399],\n",
       " 'Q3T8J9': [1126],\n",
       " 'O43657': [123],\n",
       " 'Q13557': [301],\n",
       " 'O15131': [110],\n",
       " 'Q2M296': [41],\n",
       " 'F8W835': [17],\n",
       " 'P11021': [591, 585],\n",
       " 'Q99569': [982],\n",
       " 'O00567': [480, 478],\n",
       " 'O43929': [7],\n",
       " 'B7ZKJ8': [836, 847],\n",
       " 'Q9NPH9': [62],\n",
       " 'P53985': [494],\n",
       " 'Q9H4L7': [268],\n",
       " 'E9PIV8': [22, 18],\n",
       " 'F5H2L2': [91, 88],\n",
       " 'O95785': [967],\n",
       " 'O14686': [5024],\n",
       " 'E7EMZ9': [1346, 1339],\n",
       " 'C9JE17': [467],\n",
       " 'Q8IVF4': [3856],\n",
       " 'Q9C0C2': [1644],\n",
       " 'Q6N043-2': [546],\n",
       " 'D6R9M0': [142, 150],\n",
       " 'A6NEM2': [511],\n",
       " 'B7Z2W5': [21, 17],\n",
       " 'P68371': [19],\n",
       " 'E7EMI5': [11],\n",
       " 'Q8WZ42': [28034, 28031],\n",
       " 'O60870': [135],\n",
       " 'B4DEB1': [28, 37, 80],\n",
       " 'Q5BKX6-3': [745, 746],\n",
       " 'O43520': [60],\n",
       " 'Q8WUU5': [6, 21],\n",
       " 'A4UGR9': [2799, 1877, 1944],\n",
       " 'B4DXM8': [329, 328],\n",
       " 'Q96GZ6-6': [212, 224],\n",
       " 'Q9NW64': [185],\n",
       " 'H0Y394': [701],\n",
       " 'O43597': [78],\n",
       " 'P50238': [64],\n",
       " 'H0YD31': [75],\n",
       " 'P12882': [862, 857],\n",
       " 'A6NEL2': [434],\n",
       " 'Q9Y2W1': [756, 252],\n",
       " 'O95025': [758, 759],\n",
       " 'Q00325': [112],\n",
       " 'P23469': [237, 226],\n",
       " 'Q9Y2L1': [331],\n",
       " 'Q562R1': [69],\n",
       " 'Q96NW4': [626],\n",
       " 'H7C2B5': [641],\n",
       " 'Q9Y4L5': [26],\n",
       " 'P63215': [24],\n",
       " 'Q9Y4X4': [313],\n",
       " 'B7WP88': [1696],\n",
       " 'O00159': [383],\n",
       " 'E5RIP1': [8],\n",
       " 'Q9NRZ9': [569],\n",
       " 'Q9P2D7': [1164],\n",
       " 'Q9NZN9-5': [275],\n",
       " 'H3BQN4': [294],\n",
       " 'Q9H4G0-2': [432],\n",
       " 'Q49MI3': [275],\n",
       " 'P55795': [98],\n",
       " 'P13010': [7],\n",
       " 'Q9Y2A4': [539],\n",
       " 'P42166': [94],\n",
       " 'A2N0S5': [60],\n",
       " 'P24043': [1943],\n",
       " 'K7EQV2': [65],\n",
       " 'Q96KQ7': [185, 189, 114],\n",
       " 'C9IYB5': [181],\n",
       " 'P84243': [24, 28, 10, 19, 38, 37, 65, 57, 80, 5, 123],\n",
       " 'Q075Z2': [120],\n",
       " 'E5RH00': [5],\n",
       " 'Q6F5E8-2': [126],\n",
       " 'Q8IY92': [405, 404],\n",
       " 'P40763': [140],\n",
       " 'B5MBY2': [407],\n",
       " 'F8WEX7': [455, 436],\n",
       " 'Q13247': [242],\n",
       " 'Q8NFW8': [399],\n",
       " 'P08238': [607, 623],\n",
       " 'P55072': [315],\n",
       " 'O60869': [25],\n",
       " 'P13639': [407, 525, 594],\n",
       " 'Q15047': [1178, 1170],\n",
       " 'Q6IT96': [432],\n",
       " 'A6PW79': [301],\n",
       " 'Q96N67': [381],\n",
       " 'Q14103': [129, 119],\n",
       " 'F8VYH7': [29, 33],\n",
       " 'O95803-3': [125, 123],\n",
       " 'C4B7M2': [2182],\n",
       " 'Q9P2F9': [496],\n",
       " 'Q86YA3-6': [864, 866],\n",
       " 'P35232-2': [4, 11],\n",
       " 'Q6UX07': [50],\n",
       " 'G3V5R6': [122, 116],\n",
       " 'F2Z2U4': [2387, 1672],\n",
       " 'P57053': [58, 47, 109],\n",
       " 'Q01094': [185],\n",
       " 'Q6PJH3': [9],\n",
       " 'Q5T0Z8': [583],\n",
       " 'P27816': [809, 1011],\n",
       " 'P49756': [77],\n",
       " 'O75290': [527, 521],\n",
       " 'Q02252-2': [104],\n",
       " 'O95785-3': [476, 426, 148],\n",
       " 'H0YLR3': [12],\n",
       " 'H0YA47': [233],\n",
       " 'O60673': [2868],\n",
       " 'Q15269': [691],\n",
       " 'B7ZA25': [101],\n",
       " 'P08107': [567, 568, 561, 559],\n",
       " 'D6RGK2': [159, 157],\n",
       " 'P49757-3': [163, 158],\n",
       " 'Q5F1R6': [2],\n",
       " 'Q14172': [35, 31],\n",
       " 'E7ESH4': [233],\n",
       " 'B4DXZ6': [449],\n",
       " 'Q00688': [187],\n",
       " 'Q8NCY6': [297],\n",
       " 'E9PEQ6': [203],\n",
       " 'H0YLW0': [27],\n",
       " 'Q8IW52': [792, 801],\n",
       " 'Q8NEY1': [1320, 1317],\n",
       " 'P16403': [34],\n",
       " 'Q01780': [835],\n",
       " 'Q9UPQ4': [138],\n",
       " 'P16471-4': [357, 369],\n",
       " 'P54868': [276],\n",
       " 'E7EN38': [20],\n",
       " 'D3YTC1': [160],\n",
       " 'P55769': [33],\n",
       " 'P28347-2': [86],\n",
       " 'Q9C0B7': [63],\n",
       " 'Q70E73': [134],\n",
       " 'D6RAJ2': [2],\n",
       " 'P10275': [630, 632],\n",
       " 'Q14980': [1803],\n",
       " 'Q9NVM6': [264],\n",
       " 'Q9UIS9-10': [172],\n",
       " 'E7ETZ0': [117],\n",
       " 'Q6PCE3': [501],\n",
       " 'Q2TAM5': [314, 315],\n",
       " 'B4DST5': [482, 487],\n",
       " 'H7BZN3': [513, 511],\n",
       " 'B0S8I6': [55],\n",
       " 'H0YLZ7': [66],\n",
       " 'Q8NHH9': [270],\n",
       " 'P01111': [88],\n",
       " 'Q96HE9': [220, 212],\n",
       " 'E5RGB3': [138],\n",
       " 'P33993': [449],\n",
       " 'H0YAW0': [356, 355],\n",
       " 'P46783': [139],\n",
       " 'G3XAD9': [227],\n",
       " 'O94761': [114],\n",
       " 'H0Y3V9': [53],\n",
       " 'H0Y9Y8': [183],\n",
       " 'E9PKH6': [31],\n",
       " 'P17096-2': [81],\n",
       " 'Q14123': [695],\n",
       " 'P51814': [656],\n",
       " 'P68133': [86],\n",
       " 'E5RGS4': [28],\n",
       " 'H7C5R8': [240],\n",
       " 'O14979': [161],\n",
       " 'Q9BRK4': [607],\n",
       " 'O60678': [81],\n",
       " 'Q7Z699': [224],\n",
       " 'P13611': [2238],\n",
       " 'O75390': [395],\n",
       " 'B1AHR2': [17],\n",
       " 'Q9BYG3': [179],\n",
       " 'F8VTY5': [98],\n",
       " 'Q5QP23': [111],\n",
       " 'Q96P23': [99],\n",
       " 'Q14680': [650, 639],\n",
       " 'D6RBW1': [12, 11],\n",
       " 'Q14789': [1740],\n",
       " 'Q9Y281': [114],\n",
       " 'Q8NI77': [517, 534],\n",
       " 'P17066': [142],\n",
       " 'Q15559': [28, 29],\n",
       " 'O00515': [367],\n",
       " 'P18858': [795],\n",
       " 'Q53H47': [498],\n",
       " 'Q7Z2Y5': [819, 818],\n",
       " 'Q6ZN57': [299],\n",
       " 'Q96KP6': [39],\n",
       " 'Q01813': [109],\n",
       " 'Q32M84': [288],\n",
       " 'E9PFB9': [1117],\n",
       " 'P10600': [162],\n",
       " 'Q93075': [56],\n",
       " 'O14974': [442],\n",
       " 'H0Y8X8': [61],\n",
       " 'Q13435': [507],\n",
       " 'Q13547': [432],\n",
       " 'H3BS19': [3701],\n",
       " 'P21854': [196],\n",
       " 'E7EQJ3': [96, 99],\n",
       " 'O15050': [312],\n",
       " 'Q6UY01': [511],\n",
       " 'Q8NHS4': [150],\n",
       " 'F2Z296': [194],\n",
       " 'H7C342': [42],\n",
       " 'Q8IYB3': [425],\n",
       " 'O75116': [1368],\n",
       " 'B1AMR3': [110],\n",
       " 'Q13330': [532],\n",
       " 'Q66K74': [553],\n",
       " 'E9PQU5': [77],\n",
       " 'Q9Y230': [67],\n",
       " 'B4DDJ5': [263],\n",
       " 'Q9H3Q1': [5],\n",
       " 'D6RAI3': [119],\n",
       " 'E5RHX2': [75],\n",
       " 'Q9UEE9': [219],\n",
       " 'Q9Y512': [255],\n",
       " 'G3V4G9': [144],\n",
       " 'Q14320': [5],\n",
       " 'Q92541': [587, 44],\n",
       " 'Q14332': [446],\n",
       " 'Q92575': [301],\n",
       " 'Q8WUA4': [148],\n",
       " 'O95153': [174],\n",
       " 'P09211': [209],\n",
       " 'B1AH99': [8],\n",
       " 'E9PP68': [104],\n",
       " 'F8VVM2': [89],\n",
       " 'C9JK30': [83],\n",
       " 'O00193': [179],\n",
       " 'P62906': [106],\n",
       " 'P10589': [148],\n",
       " 'P12235': [52],\n",
       " 'E7EX46': [54],\n",
       " 'B5MC48': [21],\n",
       " 'P05496': [104],\n",
       " 'Q6XPR3': [233],\n",
       " 'Q9Y603': [310],\n",
       " 'H0YAK9': [73],\n",
       " 'H9KVB4': [2896],\n",
       " 'H0YHL3': [130],\n",
       " 'Q5VSL9': [722],\n",
       " 'Q14978': [80],\n",
       " 'F5GYE8': [675]}"
      ]
     },
     "execution_count": 42,
     "metadata": {},
     "output_type": "execute_result"
    }
   ],
   "source": [
    "positive_name_site"
   ]
  },
  {
   "cell_type": "code",
   "execution_count": 43,
   "metadata": {},
   "outputs": [
    {
     "name": "stdout",
     "output_type": "stream",
     "text": [
      "正样本数量为: 953\n"
     ]
    }
   ],
   "source": [
    "num=0\n",
    "for i,j in positive_name_site.items():\n",
    "    num+=len(j)\n",
    "print(\"正样本数量为:\",num)"
   ]
  },
  {
   "cell_type": "code",
   "execution_count": 44,
   "metadata": {},
   "outputs": [
    {
     "name": "stdout",
     "output_type": "stream",
     "text": [
      "Q7Z2Y5 818\n"
     ]
    }
   ],
   "source": [
    "for name in positive_name_site.keys():\n",
    "    for site in positive_name_site[name]:\n",
    "        if name_seq[name][site-1]!='K':   #判断中心是不是K\n",
    "            print(name,site)\n",
    "            positive_name_site[name].remove(site)"
   ]
  },
  {
   "cell_type": "code",
   "execution_count": 45,
   "metadata": {},
   "outputs": [
    {
     "name": "stdout",
     "output_type": "stream",
     "text": [
      "正样本数量为: 952\n"
     ]
    }
   ],
   "source": [
    "num=0\n",
    "for i,j in positive_name_site.items():\n",
    "    num+=len(j)\n",
    "print(\"正样本数量为:\",num)\n",
    "# len(positive_name_site)"
   ]
  },
  {
   "cell_type": "code",
   "execution_count": 46,
   "metadata": {},
   "outputs": [],
   "source": [
    "np.save('/home/Users/gly/gly_me/data_process/K_site/me_positive_name_site_K.npy',positive_name_site)"
   ]
  },
  {
   "cell_type": "markdown",
   "metadata": {},
   "source": [
    "负样本"
   ]
  },
  {
   "cell_type": "code",
   "execution_count": 50,
   "metadata": {},
   "outputs": [],
   "source": [
    "negative_name_site={}\n",
    "for name,seq in file.items():\n",
    "    for index,site in enumerate(seq):\n",
    "        if site=='K':\n",
    "            if name not in positive_name_site.keys():\n",
    "                # continue\n",
    "                if name not in negative_name_site.keys():\n",
    "                    negative_name_site[name]=[index+1]\n",
    "                else:\n",
    "                    negative_name_site[name].append(index+1)\n",
    "            elif index+1 not in positive_name_site[name]:\n",
    "                if name not in negative_name_site.keys():\n",
    "                    negative_name_site[name]=[index+1]\n",
    "                else:\n",
    "                    negative_name_site[name].append(index+1)\n",
    "\n",
    "# with open(\"/home/Users/gly/gly_me/data_process/K_site/k.hs.txt\", \"r\") as f:\n",
    "#     data = f.readlines()\n",
    "#     for i in range(len(data)):\n",
    "#         temp=data[i].split('\\t')\n",
    "#         if temp[0] in negative_name_site.keys():\n",
    "#             negative_name_site[temp[0]].append(int(temp[2]))\n",
    "#         else:\n",
    "#             negative_name_site[temp[0]]=[int(temp[2])]"
   ]
  },
  {
   "cell_type": "code",
   "execution_count": 51,
   "metadata": {},
   "outputs": [
    {
     "name": "stdout",
     "output_type": "stream",
     "text": [
      "负样本数量为: 39723\n"
     ]
    }
   ],
   "source": [
    "num=0\n",
    "for i,j in negative_name_site.items():\n",
    "    num+=len(j)\n",
    "print(\"负样本数量为:\",num)"
   ]
  },
  {
   "cell_type": "code",
   "execution_count": 34,
   "metadata": {},
   "outputs": [],
   "source": [
    "# negative_name_site={}\n",
    "# for name in negative_name_site.keys():\n",
    "#     seq=name_seq[name]\n",
    "#     negative_name_site[name]=[]\n",
    "#     for j in range(len(seq)):\n",
    "#         if seq[j]=='K' and (j+1) not in negative_name_site[name]:   #判断中心是不是K\n",
    "#             negative_name_site[name].append(j+1)"
   ]
  },
  {
   "cell_type": "code",
   "execution_count": 30,
   "metadata": {},
   "outputs": [],
   "source": [
    "# negative_name_site={}\n",
    "# for name in negative_name_site.keys():\n",
    "#     seq=name_seq[name]\n",
    "#     negative_name_site[name]=[]\n",
    "#     for j in range(len(seq)):\n",
    "#         if seq[j]=='K' and (j+1) not in positive_name_site[name]:\n",
    "#             negative_name_site[name].append(j+1)"
   ]
  },
  {
   "cell_type": "code",
   "execution_count": 52,
   "metadata": {},
   "outputs": [],
   "source": [
    "np.save('/home/Users/gly/gly_me/data_process/K_site/me_negative_name_site_K.npy',negative_name_site)"
   ]
  },
  {
   "cell_type": "markdown",
   "metadata": {},
   "source": [
    "去除K没有PDB的"
   ]
  },
  {
   "cell_type": "code",
   "execution_count": 54,
   "metadata": {},
   "outputs": [
    {
     "name": "stdout",
     "output_type": "stream",
     "text": [
      "me_positive_name_site number: 656\n",
      "me_negative_name_site number: 653\n",
      "me_name_seq number: 656\n"
     ]
    }
   ],
   "source": [
    "import os\n",
    "me_positive_name_site=np.load('./K_site/me_positive_name_site_K.npy',allow_pickle=True).item()\n",
    "me_negative_name_site=np.load('./K_site/me_negative_name_site_K.npy',allow_pickle=True).item()\n",
    "me_name_seq = np.load('./K_site/me_name_seq_K.npy',allow_pickle=True).item()\n",
    "print('me_positive_name_site number:',len(me_positive_name_site.keys()))\n",
    "print('me_negative_name_site number:',len(me_negative_name_site.keys()))\n",
    "print('me_name_seq number:',len(me_name_seq.keys()))\n"
   ]
  },
  {
   "cell_type": "code",
   "execution_count": 55,
   "metadata": {},
   "outputs": [
    {
     "name": "stdout",
     "output_type": "stream",
     "text": [
      "me_positive_name_site number: 417\n",
      "me_negative_name_site number: 417\n",
      "me_name_seq number: 417\n"
     ]
    }
   ],
   "source": [
    "name_list=[]\n",
    "for name in me_name_seq.keys():\n",
    "    name_list.append(name)\n",
    "PDB_list=os.listdir('/home/Users/gly/Alphafold_database/UP000005640_9606_HUMAN')\n",
    "for name in name_list:\n",
    "    if 'AF-'+name+'-F1-model_v1.pdb' not in PDB_list:\n",
    "        if name in me_positive_name_site.keys():\n",
    "            del me_positive_name_site[name]\n",
    "        if name in me_negative_name_site.keys():\n",
    "            del me_negative_name_site[name]\n",
    "        del me_name_seq[name]\n",
    "#蛋白质数量\n",
    "print('me_positive_name_site number:',len(me_positive_name_site.keys()))\n",
    "print('me_negative_name_site number:',len(me_negative_name_site.keys()))\n",
    "print('me_name_seq number:',len(me_name_seq.keys()))\n"
   ]
  },
  {
   "cell_type": "code",
   "execution_count": 56,
   "metadata": {},
   "outputs": [],
   "source": [
    "np.save('./K_site/me_name_seq_K_have_PDB.npy',me_name_seq)\n",
    "np.save('./K_site/me_negative_name_site_K_have_PDB.npy',me_negative_name_site)\n",
    "np.save('./K_site/me_positive_name_site_K_have_PDB.npy',me_positive_name_site)"
   ]
  },
  {
   "cell_type": "markdown",
   "metadata": {},
   "source": [
    "查找seq与PDB不匹配的"
   ]
  },
  {
   "cell_type": "code",
   "execution_count": 59,
   "metadata": {},
   "outputs": [],
   "source": [
    "alphafold_seq=np.load('/home/Users/gly/ubiquitination_DGL/1_data_preprocess/cd-hit/pdb_homo_seq_F1.npy',allow_pickle=True).item()"
   ]
  },
  {
   "cell_type": "code",
   "execution_count": 69,
   "metadata": {},
   "outputs": [
    {
     "name": "stdout",
     "output_type": "stream",
     "text": [
      "与alphafold序列不用的蛋白质数目: 36\n"
     ]
    }
   ],
   "source": [
    "#找到pdb文件与seq不匹配的id，然后再运行\n",
    "from Bio.PDB.PDBParser import PDBParser\n",
    "from Bio.PDB.NeighborSearch import NeighborSearch\n",
    "from Bio import PDB\n",
    "import pandas as pd\n",
    "import numpy as np\n",
    "load_dict = np.load('./K_site/me_name_seq_K_have_PDB.npy',allow_pickle=True).item()\n",
    "no_eq_alpahfold=[]\n",
    "num=0\n",
    "for name,seq in load_dict.items():\n",
    "    if len(seq)>2700:\n",
    "        num+=1\n",
    "    if alphafold_seq[name]!=seq:\n",
    "        no_eq_alpahfold.append(name)\n",
    "    # break\n",
    "np.save('./K_site/no_eq_alpahfold_K.npy',no_eq_alpahfold)\n",
    "print(\"与alphafold序列不用的蛋白质数目:\",len(no_eq_alpahfold))"
   ]
  },
  {
   "cell_type": "code",
   "execution_count": 68,
   "metadata": {},
   "outputs": [
    {
     "data": {
      "text/plain": [
       "26"
      ]
     },
     "execution_count": 68,
     "metadata": {},
     "output_type": "execute_result"
    }
   ],
   "source": [
    "num"
   ]
  },
  {
   "cell_type": "code",
   "execution_count": 70,
   "metadata": {},
   "outputs": [],
   "source": [
    "me_positive_name_site=np.load('./K_site/me_positive_name_site_K_have_PDB.npy',allow_pickle=True).item()\n",
    "me_negative_name_site=np.load('./K_site/me_negative_name_site_K_have_PDB.npy',allow_pickle=True).item()\n",
    "me_name_seq = np.load('./K_site/me_name_seq_K_have_PDB.npy',allow_pickle=True).item()\n",
    "no_id_names=np.load('./K_site/no_eq_alpahfold_K.npy')\n",
    "for name in no_id_names:\n",
    "    del me_positive_name_site[name]\n",
    "    del me_negative_name_site[name]\n",
    "    del me_name_seq[name]\n"
   ]
  },
  {
   "cell_type": "code",
   "execution_count": 71,
   "metadata": {},
   "outputs": [],
   "source": [
    "np.save('./K_site/me_name_seq_K_have_PDB_alphafold.npy',me_name_seq)\n",
    "np.save('./K_site/me_negative_name_site_K_have_PDB_alphafold.npy',me_negative_name_site)\n",
    "np.save('./K_site/me_positive_name_site_K_have_PDB_alphafold.npy',me_positive_name_site)"
   ]
  },
  {
   "cell_type": "markdown",
   "metadata": {},
   "source": [
    "计算距离矩阵"
   ]
  },
  {
   "cell_type": "code",
   "execution_count": 1,
   "metadata": {},
   "outputs": [
    {
     "name": "stderr",
     "output_type": "stream",
     "text": [
      "100%|██████████| 909/909 [58:25<00:00,  3.86s/it]\n"
     ]
    }
   ],
   "source": [
    "from Bio.PDB.PDBParser import PDBParser\n",
    "from Bio.PDB.NeighborSearch import NeighborSearch\n",
    "import Bio.PDB\n",
    "import pandas as pd\n",
    "import numpy as np\n",
    "from tqdm import tqdm\n",
    "name_seq = np.load('./K_site/me_name_seq_K_have_PDB_alphafold.npy',allow_pickle=True).item()\n",
    "num=0\n",
    "## 计算过了，不用计算\n",
    "##路径'/home/Users/gly/Alphafold_database/posit_matrix_true'\n",
    "# save_path='/home/chentb/RAID_data/chentb_data/methylation_data/distance_matrix/'\n",
    "# for name in tqdm(list(name_seq.keys())):\n",
    "#     if name+'.npy' not in os.listdir(save_path):\n",
    "#         try :\n",
    "#             p = PDBParser()\n",
    "#             structure= p.get_structure(name,'/home/chentb/alphafold_database/UP000005640_9606_HUMAN/AF-'+name+'-F1-model_v1.pdb')\n",
    "#         except FileNotFoundError: \n",
    "#             num+=1\n",
    "#         else:\n",
    "#             for model in structure:\n",
    "#                 for chain in model:\n",
    "#                     adjacency_matrix=np.zeros((len(chain),len(chain)))            \n",
    "#                     for i in range(1,len(chain)+1):\n",
    "#                         for j in range(i+1,len(chain)+1):\n",
    "#                             adjacency_matrix[i-1][j-1]=chain[i][\"CA\"]-chain[j][\"CA\"]\n",
    "#                             adjacency_matrix[j-1][i-1]=chain[i][\"CA\"]-chain[j][\"CA\"]\n",
    "#                     np.save('/home/chentb/RAID_data/chentb_data/methylation_data/distance_matrix/'+name+'.npy',adjacency_matrix)"
   ]
  },
  {
   "cell_type": "markdown",
   "metadata": {},
   "source": [
    "R位点"
   ]
  },
  {
   "cell_type": "code",
   "execution_count": 1,
   "metadata": {},
   "outputs": [
    {
     "name": "stdout",
     "output_type": "stream",
     "text": [
      "['Q9Y3Y2', 'MAAQSAPKVVLKSTTKMSLNERFTNMLKNKQPTPVNIRASMQQQQQLASARNRRLAQQMENRPSVQAALKLKQSLKQRLGKSNIQARLGRPIGALARGAIGGRGLPIIQRGLPRGGLRGGRATRTLLRGGMSLRGQNLLRGGRAVAPRMGLRRGGVRGRGGPGRGGLGRGAMGRGGIGGRGRGMIGRGRGGFGGRGRGRGRGRGALARPVLTKEQLDNQLDAYMSKTKGHLDAELDAYMAQTDPETND', '203', 'R', '24129315', '3;4;5', 'Sirius', '20131017\\n']\n"
     ]
    }
   ],
   "source": [
    "name_seq={}\n",
    "with open(\"/home/Users/gly/gly_me/data_process/R_site/r.hs.txt\", \"r\") as f:\n",
    "    data = f.readlines()\n",
    "    for i in range(len(data)):\n",
    "        temp=data[i].split('\\t')\n",
    "        if temp[0] in name_seq.keys():\n",
    "            continue\n",
    "        else:\n",
    "            name_seq[temp[0]]=temp[1]\n",
    "    print(data[2].split('\\t'))"
   ]
  },
  {
   "cell_type": "code",
   "execution_count": 74,
   "metadata": {},
   "outputs": [],
   "source": [
    "np.save('/home/Users/gly/gly_me/data_process/R_site/me_name_seq_R.npy',name_seq)"
   ]
  },
  {
   "cell_type": "code",
   "execution_count": 2,
   "metadata": {},
   "outputs": [
    {
     "data": {
      "text/plain": [
       "909"
      ]
     },
     "execution_count": 2,
     "metadata": {},
     "output_type": "execute_result"
    }
   ],
   "source": [
    "len(name_seq)"
   ]
  },
  {
   "cell_type": "markdown",
   "metadata": {},
   "source": [
    "R_正样本"
   ]
  },
  {
   "cell_type": "code",
   "execution_count": 76,
   "metadata": {},
   "outputs": [],
   "source": [
    "file = np.load('/home/Users/gly/gly_me/data_process/R_site/me_name_seq_R.npy',allow_pickle=True).item()"
   ]
  },
  {
   "cell_type": "code",
   "execution_count": 80,
   "metadata": {},
   "outputs": [],
   "source": [
    "positive_name_site={}\n",
    "with open(\"/home/Users/gly/gly_me/data_process/R_site/r.hs.txt\", \"r\") as f:\n",
    "    data = f.readlines()\n",
    "    for i in range(len(data)):\n",
    "        temp=data[i].split('\\t')\n",
    "        if temp[0] in positive_name_site.keys():\n",
    "            positive_name_site[temp[0]].append(int(temp[2]))\n",
    "        else:\n",
    "            positive_name_site[temp[0]]=[int(temp[2])]"
   ]
  },
  {
   "cell_type": "code",
   "execution_count": 81,
   "metadata": {},
   "outputs": [
    {
     "name": "stdout",
     "output_type": "stream",
     "text": [
      "R正样本数量为: 2156\n"
     ]
    }
   ],
   "source": [
    "num=0\n",
    "for i,j in positive_name_site.items():\n",
    "    num+=len(j)\n",
    "print(\"R正样本数量为:\",num)"
   ]
  },
  {
   "cell_type": "code",
   "execution_count": 82,
   "metadata": {},
   "outputs": [],
   "source": [
    "for name in positive_name_site.keys():\n",
    "    for site in positive_name_site[name]:\n",
    "        if name_seq[name][site-1]!='R':   #判断中心是不是K\n",
    "            print(name,site)\n",
    "            positive_name_site[name].remove(site)"
   ]
  },
  {
   "cell_type": "code",
   "execution_count": 83,
   "metadata": {},
   "outputs": [
    {
     "name": "stdout",
     "output_type": "stream",
     "text": [
      "正样本数量为: 2156\n"
     ]
    }
   ],
   "source": [
    "num=0\n",
    "for i,j in positive_name_site.items():\n",
    "    num+=len(j)\n",
    "print(\"正样本数量为:\",num)\n",
    "# len(positive_name_site)"
   ]
  },
  {
   "cell_type": "code",
   "execution_count": 84,
   "metadata": {},
   "outputs": [],
   "source": [
    "np.save('/home/Users/gly/gly_me/data_process/R_site/me_positive_name_site_R.npy',positive_name_site)"
   ]
  },
  {
   "cell_type": "code",
   "execution_count": 85,
   "metadata": {},
   "outputs": [],
   "source": [
    "negative_name_site={}\n",
    "for name,seq in file.items():\n",
    "    for index,site in enumerate(seq):\n",
    "        if site=='R':\n",
    "            if name not in positive_name_site.keys():\n",
    "                # continue\n",
    "                if name not in negative_name_site.keys():\n",
    "                    negative_name_site[name]=[index+1]\n",
    "                else:\n",
    "                    negative_name_site[name].append(index+1)\n",
    "            elif index+1 not in positive_name_site[name]:\n",
    "                if name not in negative_name_site.keys():\n",
    "                    negative_name_site[name]=[index+1]\n",
    "                else:\n",
    "                    negative_name_site[name].append(index+1)\n"
   ]
  },
  {
   "cell_type": "code",
   "execution_count": 86,
   "metadata": {},
   "outputs": [
    {
     "name": "stdout",
     "output_type": "stream",
     "text": [
      "负样本数量为: 43921\n"
     ]
    }
   ],
   "source": [
    "num=0\n",
    "for i,j in negative_name_site.items():\n",
    "    num+=len(j)\n",
    "print(\"负样本数量为:\",num)"
   ]
  },
  {
   "cell_type": "code",
   "execution_count": 87,
   "metadata": {},
   "outputs": [],
   "source": [
    "np.save('/home/Users/gly/gly_me/data_process/R_site/me_negative_name_site_R.npy',negative_name_site)"
   ]
  },
  {
   "cell_type": "code",
   "execution_count": 89,
   "metadata": {},
   "outputs": [
    {
     "name": "stdout",
     "output_type": "stream",
     "text": [
      "me_positive_name_site number: 909\n",
      "me_negative_name_site number: 909\n",
      "me_name_seq number: 909\n"
     ]
    }
   ],
   "source": [
    "import os\n",
    "me_positive_name_site=np.load('./R_site/me_positive_name_site_R.npy',allow_pickle=True).item()\n",
    "me_negative_name_site=np.load('./R_site/me_negative_name_site_R.npy',allow_pickle=True).item()\n",
    "me_name_seq = np.load('./R_site/me_name_seq_R.npy',allow_pickle=True).item()\n",
    "print('me_positive_name_site number:',len(me_positive_name_site.keys()))\n",
    "print('me_negative_name_site number:',len(me_negative_name_site.keys()))\n",
    "print('me_name_seq number:',len(me_name_seq.keys()))\n"
   ]
  },
  {
   "cell_type": "code",
   "execution_count": 90,
   "metadata": {},
   "outputs": [
    {
     "name": "stdout",
     "output_type": "stream",
     "text": [
      "me_positive_name_site number: 770\n",
      "me_negative_name_site number: 770\n",
      "me_name_seq number: 770\n"
     ]
    }
   ],
   "source": [
    "name_list=[]\n",
    "for name in me_name_seq.keys():\n",
    "    name_list.append(name)\n",
    "PDB_list=os.listdir('/home/Users/gly/Alphafold_database/UP000005640_9606_HUMAN')\n",
    "for name in name_list:\n",
    "    if 'AF-'+name+'-F1-model_v1.pdb' not in PDB_list:\n",
    "        if name in me_positive_name_site.keys():\n",
    "            del me_positive_name_site[name]\n",
    "        if name in me_negative_name_site.keys():\n",
    "            del me_negative_name_site[name]\n",
    "        del me_name_seq[name]\n",
    "print('me_positive_name_site number:',len(me_positive_name_site.keys()))\n",
    "print('me_negative_name_site number:',len(me_negative_name_site.keys()))\n",
    "print('me_name_seq number:',len(me_name_seq.keys()))\n"
   ]
  },
  {
   "cell_type": "code",
   "execution_count": 91,
   "metadata": {},
   "outputs": [],
   "source": [
    "np.save('./R_site/me_name_seq_R_have_PDB.npy',me_name_seq)\n",
    "np.save('./R_site/me_negative_name_site_R_have_PDB.npy',me_negative_name_site)\n",
    "np.save('./R_site/me_positive_name_site_R_have_PDB.npy',me_positive_name_site)"
   ]
  },
  {
   "cell_type": "code",
   "execution_count": 92,
   "metadata": {},
   "outputs": [],
   "source": [
    "alphafold_seq=np.load('/home/Users/gly/ubiquitination_DGL/1_data_preprocess/cd-hit/pdb_homo_seq_F1.npy',allow_pickle=True).item()"
   ]
  },
  {
   "cell_type": "code",
   "execution_count": 93,
   "metadata": {},
   "outputs": [
    {
     "name": "stdout",
     "output_type": "stream",
     "text": [
      "12\n",
      "与alphafold序列不用的蛋白质数目: 28\n"
     ]
    }
   ],
   "source": [
    "#找到pdb文件与seq不匹配的id，然后再运行\n",
    "from Bio.PDB.PDBParser import PDBParser\n",
    "from Bio.PDB.NeighborSearch import NeighborSearch\n",
    "from Bio import PDB\n",
    "import pandas as pd\n",
    "import numpy as np\n",
    "load_dict = np.load('./R_site/me_name_seq_R_have_PDB.npy',allow_pickle=True).item()\n",
    "no_eq_alpahfold=[]\n",
    "num=0\n",
    "for name,seq in load_dict.items():\n",
    "    if len(seq)>2700:\n",
    "        num+=1\n",
    "    if alphafold_seq[name]!=seq:\n",
    "        no_eq_alpahfold.append(name)\n",
    "    # break\n",
    "np.save('./R_site/no_eq_alpahfold_R.npy',no_eq_alpahfold)\n",
    "print(num)\n",
    "print(\"与alphafold序列不用的蛋白质数目:\",len(no_eq_alpahfold))"
   ]
  },
  {
   "cell_type": "code",
   "execution_count": 94,
   "metadata": {},
   "outputs": [],
   "source": [
    "me_positive_name_site=np.load('./R_site/me_positive_name_site_R_have_PDB.npy',allow_pickle=True).item()\n",
    "me_negative_name_site=np.load('./R_site/me_negative_name_site_R_have_PDB.npy',allow_pickle=True).item()\n",
    "me_name_seq = np.load('./R_site/me_name_seq_R_have_PDB.npy',allow_pickle=True).item()\n",
    "no_id_names=np.load('./R_site/no_eq_alpahfold_R.npy')\n",
    "for name in no_id_names:\n",
    "    del me_positive_name_site[name]\n",
    "    del me_negative_name_site[name]\n",
    "    del me_name_seq[name]\n"
   ]
  },
  {
   "cell_type": "code",
   "execution_count": 95,
   "metadata": {},
   "outputs": [],
   "source": [
    "np.save('./R_site/me_name_seq_R_have_PDB_alphafold.npy',me_name_seq)\n",
    "np.save('./R_site/me_negative_name_site_R_have_PDB_alphafold.npy',me_negative_name_site)\n",
    "np.save('./R_site/me_positive_name_site_R_have_PDB_alphafold.npy',me_positive_name_site)"
   ]
  },
  {
   "cell_type": "markdown",
   "metadata": {},
   "source": [
    "检查数据"
   ]
  },
  {
   "cell_type": "code",
   "execution_count": 72,
   "metadata": {},
   "outputs": [
    {
     "name": "stdout",
     "output_type": "stream",
     "text": [
      "0\n"
     ]
    }
   ],
   "source": [
    "me_name_seq_K_have_PDB = np.load('./K_site/me_name_seq_K_have_PDB_alphafold.npy',allow_pickle=True).item()\n",
    "me_positive_name_site_K_have_PDB= np.load('./K_site/me_positive_name_site_K_have_PDB_alphafold.npy',allow_pickle=True).item()\n",
    "me_negative_name_site_K_have_PDB= np.load('./K_site/me_negative_name_site_K_have_PDB_alphafold.npy',allow_pickle=True).item()\n",
    "for name,sites in me_positive_name_site_K_have_PDB.items():\n",
    "    seq=me_name_seq_K_have_PDB[name]\n",
    "    for site in sites:\n",
    "        if seq[site-1]!='K':\n",
    "            print(name,site)\n",
    "count=0\n",
    "for name,sites in me_negative_name_site_K_have_PDB.items():\n",
    "    seq=me_name_seq_K_have_PDB[name]\n",
    "    for site in sites:\n",
    "        if seq[site-1]!='K':\n",
    "            count+=1\n",
    "            # print(name,site)\n",
    "print(count)"
   ]
  },
  {
   "attachments": {},
   "cell_type": "markdown",
   "metadata": {},
   "source": [
    "# ctb test"
   ]
  },
  {
   "cell_type": "code",
   "execution_count": 2,
   "metadata": {},
   "outputs": [],
   "source": [
    "import torch\n",
    "import numpy as np\n",
    "adjacency_mat=[]\n",
    "fourier_freq=[]\n",
    "fourier_basis=[]\n",
    "n_vertices=np.array([5]) \n",
    "for i in range(len(n_vertices)):\n",
    "    n_v = n_vertices[i]\n",
    "    adjmat = torch.diag(torch.ones(n_v - 1), -1) + torch.diag(torch.ones(n_v - 1), 1)\n",
    "    adjacency_mat.append(adjmat)\n",
    "    laplacian = torch.diag(torch.sum(adjmat, dim=0)) - adjmat\n",
    "    # eigval, eigvec = torch.symeig(laplacian, eigenvectors=True)\n",
    "    eigval, eigvec = torch.linalg.eigh(laplacian)\n",
    "    fourier_freq.append(eigval)\n",
    "    fourier_basis.append(eigvec)"
   ]
  },
  {
   "cell_type": "code",
   "execution_count": 5,
   "metadata": {},
   "outputs": [
    {
     "data": {
      "text/plain": [
       "5"
      ]
     },
     "execution_count": 5,
     "metadata": {},
     "output_type": "execute_result"
    }
   ],
   "source": [
    "fourier_freq[0].size(0)"
   ]
  }
 ],
 "metadata": {
  "kernelspec": {
   "display_name": "graphmethysite",
   "language": "python",
   "name": "python3"
  },
  "language_info": {
   "codemirror_mode": {
    "name": "ipython",
    "version": 3
   },
   "file_extension": ".py",
   "mimetype": "text/x-python",
   "name": "python",
   "nbconvert_exporter": "python",
   "pygments_lexer": "ipython3",
   "version": "3.8.13"
  },
  "orig_nbformat": 4,
  "vscode": {
   "interpreter": {
    "hash": "45b9e044f2a450349ffb24adb93c1bdcb772caee6ff403839b0bff139087a86d"
   }
  }
 },
 "nbformat": 4,
 "nbformat_minor": 2
}
