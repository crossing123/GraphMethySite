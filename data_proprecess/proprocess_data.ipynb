{
 "cells": [
  {
   "cell_type": "code",
   "execution_count": 1,
   "metadata": {},
   "outputs": [],
   "source": [
    "import pandas as pd\n",
    "import numpy as np\n",
    "from tqdm import tqdm"
   ]
  },
  {
   "cell_type": "markdown",
   "metadata": {},
   "source": [
    "## Example of Lysine(K)"
   ]
  },
  {
   "cell_type": "code",
   "execution_count": 2,
   "metadata": {},
   "outputs": [
    {
     "name": "stdout",
     "output_type": "stream",
     "text": [
      "['P28845', 'MAFMKKYLLPILGLFMAYYYYSANEEFRPEMLQGKKVIVTGASKGIGREMAYHLAKMGAHVVVTARSKETLQKVVSHCLELGAASAHYIAGTMEDMTFAEQFVAQAGKLMGGLDMLILNHITNTSLNLFHDDIHHVRKSMEVNFLSYVVLTVAALPMLKQSNGSIVVVSSLAGKVAYPMVAAYSASKFALDGFFSSIRKEYSVSRVNVSITLCVLGLIDTETAMKAVSGIVHMQAAPKEECALEIIKGGALRQEEVYYDSSLWTTLLIRNPCRKILEFLYSTSYNMDRFINK', '56', 'K', '23644510', 'K.all', 'Homo sapiens\\n']\n"
     ]
    }
   ],
   "source": [
    "name_seq={}\n",
    "with open(\"../K_site/k.hs.txt\", \"r\") as f: #your file name\n",
    "    data = f.readlines()\n",
    "    for i in range(len(data)):\n",
    "        temp=data[i].split('\\t')\n",
    "        if temp[0] in name_seq.keys():\n",
    "            continue\n",
    "        else:\n",
    "            name_seq[temp[0]]=temp[1]\n",
    "\n",
    "np.save('../K_site/me_name_seq_K.npy',name_seq)\n",
    "file = np.load('../K_site/me_name_seq_K.npy',allow_pickle=True).item()"
   ]
  },
  {
   "cell_type": "code",
   "execution_count": 6,
   "metadata": {},
   "outputs": [],
   "source": [
    "positive_name_site={}\n",
    "with open(\"../K_site/k.hs.txt\", \"r\") as f:\n",
    "    data = f.readlines()\n",
    "    for i in range(len(data)):\n",
    "        temp=data[i].split('\\t')\n",
    "        if temp[0] in positive_name_site.keys():\n",
    "            positive_name_site[temp[0]].append(int(temp[2]))\n",
    "        else:\n",
    "            positive_name_site[temp[0]]=[int(temp[2])]"
   ]
  },
  {
   "cell_type": "code",
   "execution_count": 44,
   "metadata": {},
   "outputs": [
    {
     "name": "stdout",
     "output_type": "stream",
     "text": [
      "Q7Z2Y5 818\n"
     ]
    }
   ],
   "source": [
    "for name in positive_name_site.keys():\n",
    "    for site in positive_name_site[name]:\n",
    "        if name_seq[name][site-1]!='K':   #if the center is 'K' else remove\n",
    "            print(name,site)\n",
    "            positive_name_site[name].remove(site)\n",
    "np.save('../K_site/me_positive_name_site_K.npy',positive_name_site)"
   ]
  },
  {
   "cell_type": "code",
   "execution_count": 50,
   "metadata": {},
   "outputs": [],
   "source": [
    "negative_name_site={}\n",
    "for name,seq in file.items():\n",
    "    for index,site in enumerate(seq):\n",
    "        if site=='K':\n",
    "            if name not in positive_name_site.keys():\n",
    "                # continue\n",
    "                if name not in negative_name_site.keys():\n",
    "                    negative_name_site[name]=[index+1]\n",
    "                else:\n",
    "                    negative_name_site[name].append(index+1)\n",
    "            elif index+1 not in positive_name_site[name]:\n",
    "                if name not in negative_name_site.keys():\n",
    "                    negative_name_site[name]=[index+1]\n",
    "                else:\n",
    "                    negative_name_site[name].append(index+1)\n",
    "np.save('../data_process/K_site/me_negative_name_site_K.npy',negative_name_site)"
   ]
  },
  {
   "cell_type": "markdown",
   "metadata": {},
   "source": [
    "# Load the PDB file"
   ]
  },
  {
   "cell_type": "code",
   "execution_count": 1,
   "metadata": {},
   "outputs": [
    {
     "ename": "NameError",
     "evalue": "name 'np' is not defined",
     "output_type": "error",
     "traceback": [
      "\u001b[0;31m---------------------------------------------------------------------------\u001b[0m",
      "\u001b[0;31mNameError\u001b[0m                                 Traceback (most recent call last)",
      "\u001b[1;32m/home/Users/gly/gly_git_code/GraphMethySite/data_proprecess/proprocess_data.ipynb Cell 8\u001b[0m in \u001b[0;36m<cell line: 2>\u001b[0;34m()\u001b[0m\n\u001b[1;32m      <a href='vscode-notebook-cell://ssh-remote%2Bgly/home/Users/gly/gly_git_code/GraphMethySite/data_proprecess/proprocess_data.ipynb#X25sdnNjb2RlLXJlbW90ZQ%3D%3D?line=0'>1</a>\u001b[0m \u001b[39mimport\u001b[39;00m \u001b[39mos\u001b[39;00m\n\u001b[0;32m----> <a href='vscode-notebook-cell://ssh-remote%2Bgly/home/Users/gly/gly_git_code/GraphMethySite/data_proprecess/proprocess_data.ipynb#X25sdnNjb2RlLXJlbW90ZQ%3D%3D?line=1'>2</a>\u001b[0m me_positive_name_site\u001b[39m=\u001b[39mnp\u001b[39m.\u001b[39mload(\u001b[39m'\u001b[39m\u001b[39m../data_process/K_site/me_positive_name_site_K.npy\u001b[39m\u001b[39m'\u001b[39m,allow_pickle\u001b[39m=\u001b[39m\u001b[39mTrue\u001b[39;00m)\u001b[39m.\u001b[39mitem()\n\u001b[1;32m      <a href='vscode-notebook-cell://ssh-remote%2Bgly/home/Users/gly/gly_git_code/GraphMethySite/data_proprecess/proprocess_data.ipynb#X25sdnNjb2RlLXJlbW90ZQ%3D%3D?line=2'>3</a>\u001b[0m me_negative_name_site\u001b[39m=\u001b[39mnp\u001b[39m.\u001b[39mload(\u001b[39m'\u001b[39m\u001b[39m../data_process/K_site/me_negative_name_site_K.npy\u001b[39m\u001b[39m'\u001b[39m,allow_pickle\u001b[39m=\u001b[39m\u001b[39mTrue\u001b[39;00m)\u001b[39m.\u001b[39mitem()\n\u001b[1;32m      <a href='vscode-notebook-cell://ssh-remote%2Bgly/home/Users/gly/gly_git_code/GraphMethySite/data_proprecess/proprocess_data.ipynb#X25sdnNjb2RlLXJlbW90ZQ%3D%3D?line=3'>4</a>\u001b[0m me_name_seq \u001b[39m=\u001b[39m np\u001b[39m.\u001b[39mload(\u001b[39m'\u001b[39m\u001b[39m../data_process/K_site/me_name_seq_K.npy\u001b[39m\u001b[39m'\u001b[39m,allow_pickle\u001b[39m=\u001b[39m\u001b[39mTrue\u001b[39;00m)\u001b[39m.\u001b[39mitem()\n",
      "\u001b[0;31mNameError\u001b[0m: name 'np' is not defined"
     ]
    }
   ],
   "source": [
    "import os\n",
    "me_positive_name_site=np.load('../data_process/K_site/me_positive_name_site_K.npy',allow_pickle=True).item()\n",
    "me_negative_name_site=np.load('../data_process/K_site/me_negative_name_site_K.npy',allow_pickle=True).item()\n",
    "me_name_seq = np.load('../data_process/K_site/me_name_seq_K.npy',allow_pickle=True).item()\n",
    "name_list=[]\n",
    "for name in me_name_seq.keys():\n",
    "    name_list.append(name)\n",
    "PDB_list=os.listdir('need write the savepath')  #your PDB file savepath\n",
    "for name in name_list:\n",
    "    if 'AF-'+name+'-F1-model_v1.pdb' not in PDB_list:\n",
    "        if name in me_positive_name_site.keys():\n",
    "            del me_positive_name_site[name]\n",
    "        if name in me_negative_name_site.keys():\n",
    "            del me_negative_name_site[name]\n",
    "        del me_name_seq[name]\n",
    "np.save('../data_process/K_site/me_name_seq_K_have_PDB.npy',me_name_seq)\n",
    "np.save('../data_process/K_site/me_negative_name_site_K_have_PDB.npy',me_negative_name_site)\n",
    "np.save('../data_process/K_site/me_positive_name_site_K_have_PDB.npy',me_positive_name_site)\n"
   ]
  },
  {
   "cell_type": "markdown",
   "metadata": {},
   "source": [
    "# Map sequence and PDB"
   ]
  },
  {
   "cell_type": "code",
   "execution_count": 59,
   "metadata": {},
   "outputs": [],
   "source": [
    "alphafold_seq=np.load('..',allow_pickle=True).item() #your \n",
    "#找到pdb文件与seq不匹配的id，然后再运行\n",
    "from Bio.PDB.PDBParser import PDBParser\n",
    "from Bio.PDB.NeighborSearch import NeighborSearch\n",
    "from Bio import PDB\n",
    "import pandas as pd\n",
    "import numpy as np\n",
    "load_dict = np.load('../data_process/K_site/me_name_seq_K_have_PDB.npy',allow_pickle=True).item()\n",
    "no_eq_alpahfold=[]\n",
    "num=0\n",
    "for name,seq in load_dict.items():\n",
    "    if len(seq)>2700:\n",
    "        num+=1\n",
    "    if alphafold_seq[name]!=seq:\n",
    "        no_eq_alpahfold.append(name)\n",
    "    # break\n",
    "np.save('../data_process/K_site/no_eq_alpahfold_K.npy',no_eq_alpahfold)"
   ]
  },
  {
   "cell_type": "code",
   "execution_count": 70,
   "metadata": {},
   "outputs": [],
   "source": [
    "me_positive_name_site=np.load('../data_process/K_site/me_positive_name_site_K_have_PDB.npy',allow_pickle=True).item()\n",
    "me_negative_name_site=np.load('../data_process/K_site/me_negative_name_site_K_have_PDB.npy',allow_pickle=True).item()\n",
    "me_name_seq = np.load('../data_process/K_site/me_name_seq_K_have_PDB.npy',allow_pickle=True).item()\n",
    "no_id_names=np.load('../data_process/K_site/no_eq_alpahfold_K.npy')\n",
    "for name in no_id_names:\n",
    "    del me_positive_name_site[name]\n",
    "    del me_negative_name_site[name]\n",
    "    del me_name_seq[name]\n",
    "np.save('../data_process/K_site/me_name_seq_K_have_PDB_alphafold.npy',me_name_seq)\n",
    "np.save('../data_process/K_site/me_negative_name_site_K_have_PDB_alphafold.npy',me_negative_name_site)\n",
    "np.save('../data_process/K_site/me_positive_name_site_K_have_PDB_alphafold.npy',me_positive_name_site)"
   ]
  }
 ],
 "metadata": {
  "interpreter": {
   "hash": "a11d0628d139d7e7c9149788f5917d633070c657f6dcf48713f9630f1a0a32ee"
  },
  "kernelspec": {
   "display_name": "Python 3.8.10 ('GCN': conda)",
   "language": "python",
   "name": "python3"
  },
  "language_info": {
   "codemirror_mode": {
    "name": "ipython",
    "version": 3
   },
   "file_extension": ".py",
   "mimetype": "text/x-python",
   "name": "python",
   "nbconvert_exporter": "python",
   "pygments_lexer": "ipython3",
   "version": "3.8.10"
  },
  "orig_nbformat": 4,
  "vscode": {
   "interpreter": {
    "hash": "8ccc48d36e5f7c75e99bfb6e5cc98668060e33ee31a8a981a894d8df41bbd9ae"
   }
  }
 },
 "nbformat": 4,
 "nbformat_minor": 2
}
